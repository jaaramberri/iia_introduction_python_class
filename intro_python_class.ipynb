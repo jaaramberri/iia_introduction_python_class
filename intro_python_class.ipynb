{
 "cells": [
  {
   "cell_type": "markdown",
   "metadata": {},
   "source": [
    "# Introduction to Python\n",
    "\n",
    "If you're here, you likely already know what Python is, how to install it, and why it's so widely loved.\n",
    "\n",
    "This notebook includes some basic `Python` commands that will be useful for the Degree on Applied Artificial Intelligence and its Mathematical Foundations. \n",
    "\n",
    "Find more resources in this tutorial: [docs.python.org/3/tutorial/](https://docs.python.org/3/tutorial/). \n"
   ]
  },
  {
   "cell_type": "markdown",
   "metadata": {},
   "source": [
    "- **Author**: Julen Alvarez Aramberri\n",
    "\n",
    "- **Contact**: julen.alvarez.@ehu.eus"
   ]
  },
  {
   "cell_type": "markdown",
   "metadata": {},
   "source": [
    "- How a something works in Python:\n",
    "\n",
    "- How does `print` work?  \n",
    "    - Use `print?` to get information about it.  \n"
   ]
  },
  {
   "cell_type": "code",
   "execution_count": null,
   "metadata": {},
   "outputs": [],
   "source": [
    "#print?"
   ]
  },
  {
   "cell_type": "markdown",
   "metadata": {},
   "source": [
    "- Adding two numbers in Python is straightforward:  \n"
   ]
  },
  {
   "cell_type": "code",
   "execution_count": null,
   "metadata": {},
   "outputs": [],
   "source": [
    "3+5"
   ]
  },
  {
   "cell_type": "markdown",
   "metadata": {},
   "source": [
    "- In Python, text data can be represented using strings.  \n",
    "    - Both `\"hello\"` and `'hello'` are valid strings.  \n",
    "    - Strings can be joined using the `+` operator.  \n"
   ]
  },
  {
   "cell_type": "code",
   "execution_count": null,
   "metadata": {},
   "outputs": [],
   "source": [
    "\"hello\" + \" \" + \"world\"\n"
   ]
  },
  {
   "cell_type": "markdown",
   "metadata": {},
   "source": [
    "## Variables and Data Types  \n",
    "\n",
    "- In Python, we declare a variable by assigning a value with the `=` sign.  \n",
    "    - Variables act as pointers rather than actual data containers!  \n",
    "- Python offers a range of data types and structures, including:  \n",
    "    - Booleans (`True` or `False`)  \n",
    "    - Numbers (integers, floats, etc.)  \n",
    "    - Lists\n",
    "    - Strings\n",
    "    - Tuples\n",
    "    - Dictionaries\n",
    "    - Classes\n",
    "    - ... \n",
    "- No need to declare a variable's type when it is assigned, it is determined dynamically using [duck typing](https://en.wikipedia.org/wiki/Duck_typing).\n",
    "\n",
    "(\"If it walks like a duck and it quacks like a duck, then it must be a duck\")\n",
    "\n",
    "---\n"
   ]
  },
  {
   "cell_type": "markdown",
   "metadata": {},
   "source": [
    "### Data Structures  "
   ]
  },
  {
   "cell_type": "code",
   "execution_count": null,
   "metadata": {},
   "outputs": [],
   "source": [
    "# An integer. Notice the variable naming convention.\n",
    "age_in_years = 39"
   ]
  },
  {
   "cell_type": "code",
   "execution_count": null,
   "metadata": {},
   "outputs": [],
   "source": [
    "# A float\n",
    "almost_pi = 3.1415"
   ]
  },
  {
   "cell_type": "code",
   "execution_count": null,
   "metadata": {},
   "outputs": [],
   "source": [
    "# A string\n",
    "proton = \"P is for proton\""
   ]
  },
  {
   "cell_type": "code",
   "execution_count": null,
   "metadata": {},
   "outputs": [],
   "source": [
    "# A boolean takes on only the values True or False\n",
    "enjoying_tutorial = True"
   ]
  },
  {
   "cell_type": "markdown",
   "metadata": {},
   "source": [
    "- Most programs need more than just basic data types; they require structured data.  \n",
    "- Python has built-in support for various essential data structures.  \n",
    "    - Additional, more advanced, structures can be found in the [collections](https://docs.python.org/3/library/collections.html) module, a specialized container datatypes providing alternatives to Python’s general purpose built-in containers."
   ]
  },
  {
   "cell_type": "markdown",
   "metadata": {},
   "source": [
    "#### Lists  \n",
    "- An ordered, heterogeneous collection of elements that can store multiple values in a single variable.  \n",
    "- Elements in a list can be accessed by their position (index).  \n",
    "- Lists are **mutable** elements (they can be changed after creation).  \n",
    "- Lists are created using square brackets `[]`:  \n",
    "  - `my_list = []`  \n",
    "  - Alternatively, a list can be declared using `list()` (though square brackets are more commonly used).  \n",
    "- To access elements:  \n",
    "  - First element: `my_list[0]`  \n",
    "  - Last element: `my_list[-1]`\n"
   ]
  },
  {
   "cell_type": "code",
   "execution_count": null,
   "metadata": {},
   "outputs": [],
   "source": [
    "x = [3, 4, 5]\n",
    "y = [4, 9, 7]\n",
    "x + y"
   ]
  },
  {
   "cell_type": "code",
   "execution_count": null,
   "metadata": {},
   "outputs": [],
   "source": [
    "# Creating a list\n",
    "my_list = [10, 20, 30, 40]\n",
    "\n",
    "# Accessing the first and last elements\n",
    "first_element = my_list[0]\n",
    "last_element = my_list[-1]\n",
    "\n",
    "first_element, last_element\n"
   ]
  },
  {
   "cell_type": "markdown",
   "metadata": {},
   "source": [
    "Lists have a dynamic size and elements can be added (appended) to them"
   ]
  },
  {
   "cell_type": "code",
   "execution_count": null,
   "metadata": {},
   "outputs": [],
   "source": [
    "my_list.append(4)\n",
    "my_list"
   ]
  },
  {
   "cell_type": "markdown",
   "metadata": {},
   "source": [
    "We can access \"slices\" of a list using `my_list[i:j]` where `i` is the start of the slice (again, indexing starts from 0) and `j` the end of the slice. For instance:"
   ]
  },
  {
   "cell_type": "code",
   "execution_count": null,
   "metadata": {},
   "outputs": [],
   "source": [
    "my_list[1:3]"
   ]
  },
  {
   "cell_type": "markdown",
   "metadata": {},
   "source": [
    "Omitting the second index means that the slice shoud run until the end of the list"
   ]
  },
  {
   "cell_type": "code",
   "execution_count": null,
   "metadata": {},
   "outputs": [],
   "source": [
    "my_list[1:]"
   ]
  },
  {
   "cell_type": "markdown",
   "metadata": {},
   "source": [
    "We can check if an element is in the list using `in`."
   ]
  },
  {
   "cell_type": "code",
   "execution_count": null,
   "metadata": {},
   "outputs": [],
   "source": [
    "5 in my_list"
   ]
  },
  {
   "cell_type": "markdown",
   "metadata": {},
   "source": [
    "The length of a list can be obtained using the `len` function"
   ]
  },
  {
   "cell_type": "code",
   "execution_count": null,
   "metadata": {},
   "outputs": [],
   "source": [
    "len(my_list)"
   ]
  },
  {
   "cell_type": "markdown",
   "metadata": {},
   "source": [
    "#### Strings\n",
    "- A **string** is a sequence of characters enclosed in quotes.  \n",
    "- Strings can be created using **single (' ')**, **double (\" \")** quotes.  \n",
    "- Strings are **immutable** (they cannot be changed after creation).  \n",
    "- Strings support **indexing** (to access individual characters) and **slicing** (to extract substrings).  \n",
    "- Common string operations include:  \n",
    "  - Concatenation (`+`)  \n",
    "  - Repetition (`*`)  \n",
    "  - Length (`len()`)  \n",
    "  - Methods like `.upper()`, `.lower()`, `.strip()`, `.split()`, etc. "
   ]
  },
  {
   "cell_type": "code",
   "execution_count": null,
   "metadata": {},
   "outputs": [],
   "source": [
    "# Different ways to create strings\n",
    "str1 = 'Hello'  \n",
    "str2 = \"World,\"  \n",
    "str3 = \"Python is fun!\"  \n",
    "\n",
    "print(str1, str2, str3)\n"
   ]
  },
  {
   "cell_type": "markdown",
   "metadata": {},
   "source": [
    "\n",
    "#### Tuples  \n",
    "\n",
    "- Very similar to lists.  \n",
    "- The key difference: **tuples are immutable** (they cannot be changed after creation).  \n",
    "- Syntax for declaring a tuple:  \n",
    "  - `my_tuple = ()` (using parentheses).  \n",
    "- Elements in a tuple can be accessed by index, just like lists:  \n",
    "  - First element: `my_tuple[0]`  \n",
    "  - Last element: `my_tuple[-1]`  \n"
   ]
  },
  {
   "cell_type": "code",
   "execution_count": null,
   "metadata": {},
   "outputs": [],
   "source": []
  },
  {
   "cell_type": "code",
   "execution_count": null,
   "metadata": {},
   "outputs": [],
   "source": [
    "# Creating a tuple\n",
    "my_tuple = (5, \"car\", 15, \"duck\")\n",
    "\n",
    "# Accessing the first and last elements\n",
    "first_element = my_tuple[0]\n",
    "last_element = my_tuple[-1]\n",
    "\n",
    "first_element, last_element\n"
   ]
  },
  {
   "cell_type": "markdown",
   "metadata": {},
   "source": [
    "We cannot modify a tuple and trying to do so introduces an *exception*, or error."
   ]
  },
  {
   "cell_type": "code",
   "execution_count": null,
   "metadata": {},
   "outputs": [],
   "source": [
    "#my_tuple = (3, 4, 5)\n",
    "#my_tuple[0] = 2"
   ]
  },
  {
   "cell_type": "markdown",
   "metadata": {},
   "source": [
    "#### Dictionaries\n",
    "\n",
    "- **Unordered** collection of key-value pairs.  \n",
    "- Dictionary elements are accessed using **keys**, not positions.\n",
    "- Dictionaries are **mutable** (they can be changed after creation).  \n",
    "- Syntax for creating a dictionary:  \n",
    "  - `my_dictionary = {}` (using curly brackets).  \n",
    "  - Alternatively: `my_dictionary = dict()`, but curly brackets are more commonly used.  \n",
    "- Accessing values:  \n",
    "  - `my_dictionary[\"key_name\"]` retrieves the value associated with `\"key_name\"`.  \n"
   ]
  },
  {
   "cell_type": "code",
   "execution_count": null,
   "metadata": {},
   "outputs": [],
   "source": [
    "# Creating a dictionary\n",
    "my_dictionary = {\n",
    "    \"name\": \"Alice\",\n",
    "    \"age\": 25,\n",
    "    \"city\": \"New York\"\n",
    "}\n",
    "\n",
    "# Accessing values by key\n",
    "name = my_dictionary[\"name\"]\n",
    "age = my_dictionary[\"age\"]\n",
    "\n",
    "name, age\n"
   ]
  },
  {
   "cell_type": "code",
   "execution_count": null,
   "metadata": {},
   "outputs": [],
   "source": [
    "## Conditionals"
   ]
  },
  {
   "cell_type": "markdown",
   "metadata": {},
   "source": [
    "#### Classes  \n",
    "\n",
    "- A **class** is a blueprint for creating **objects**.  \n",
    "- Classes define attributes (variables) and **methods** (functions) that belong to an object.  \n",
    "- The `__init__` method initializes the attributes of the class when an object is created.  \n",
    "- `self` refers to the instance of the class itself and allows access to its attributes and methods.  \n",
    "- Syntax:  \n",
    "\n",
    "```python\n",
    "class ClassName:\n",
    "    def __init__(self, param1, param2):\n",
    "        self.attribute1 = param1\n",
    "        self.attribute2 = param2\n",
    "\n",
    "    def method(self):\n",
    "        return self.attribute1\n"
   ]
  },
  {
   "cell_type": "code",
   "execution_count": null,
   "metadata": {},
   "outputs": [],
   "source": [
    "# Defining a simple class\n",
    "class Person:\n",
    "    def __init__(self, name, age):\n",
    "        self.name = name  # Attribute: name\n",
    "        self.age = age    # Attribute: age\n",
    "\n",
    "    def greet(self):\n",
    "        return f\"Hello, my name is {self.name} and I am {self.age} years old.\"\n",
    "\n",
    "\n",
    "# Creating an instance of the Person class\n",
    "person1 = Person(\"Julen\", 40)\n",
    "\n",
    "# Calling the method\n",
    "person1.greet()\n",
    "\n"
   ]
  },
  {
   "cell_type": "code",
   "execution_count": null,
   "metadata": {},
   "outputs": [],
   "source": [
    "class Calculator:\n",
    "    def __init__(self, value):\n",
    "        self.value = value  # Instance attribute\n",
    "\n",
    "    def add(self, num):\n",
    "        self.value += num  # Modifies the instance attribute\n",
    "\n",
    "    def multiply(self, num):\n",
    "        self.value *= num  # Another instance method\n",
    "\n",
    "    def reset():\n",
    "        return Calculator(0)  # No 'self', creates a new instance\n",
    "\n",
    "# Creating an instance\n",
    "calc = Calculator(10)\n",
    "calc.add(5)         # 10 + 5 = 15\n",
    "calc.multiply(2)    # 15 * 2 = 30\n",
    "\n",
    "# Calling the method without an instance\n",
    "new_calc = Calculator.reset()  # Creates a new Calculator instance with value 0\n",
    "\n",
    "# Printing results\n",
    "print(calc.value)  # Output: 30\n",
    "print(new_calc.value)  # Output: 0\n"
   ]
  },
  {
   "cell_type": "markdown",
   "metadata": {},
   "source": [
    "### Exercises\n",
    "\n",
    "---"
   ]
  },
  {
   "cell_type": "markdown",
   "metadata": {},
   "source": [
    "- **Exercise 1**: List Operations  \n",
    "\n",
    "Create a list containing the numbers `[3, 7, 2, 9, 1]`.  \n",
    "Perform the following operations:  \n",
    "1. Append the number `5` to the list.  \n",
    "2. Remove the smallest number.  \n",
    "3. Sort the list in descending order.  \n",
    "4. Retrieve and print the last element in the list.\n",
    "\n",
    "```python\n",
    "# Expected Output: [9, 7, 5, 3, 2]\n"
   ]
  },
  {
   "cell_type": "code",
   "execution_count": null,
   "metadata": {},
   "outputs": [],
   "source": [
    "# Type here your code"
   ]
  },
  {
   "cell_type": "markdown",
   "metadata": {},
   "source": [
    "- **Exercise 2**: Tuples\n",
    "\n",
    "Given the tuple `coordinates = (10, 20, 30)`:  \n",
    "1. Extract the values into three variables: `x, y, z`.  \n",
    "2. Print each variable separately.  \n",
    "3. Try modifying `x` to `15` and observe what happens.  \n",
    "```python\n",
    "# Expected Output: \n",
    "10\n",
    "20\n",
    "30"
   ]
  },
  {
   "cell_type": "code",
   "execution_count": null,
   "metadata": {},
   "outputs": [],
   "source": [
    "# Type here your code"
   ]
  },
  {
   "cell_type": "markdown",
   "metadata": {},
   "source": [
    "- **Exercise 3**: Dictionaries  \n",
    "\n",
    "Create a dictionary representing a student's grades with the following data:  \n",
    "- `\"Math\"`: `85`  \n",
    "- `\"Science\"`: `90`  \n",
    "- `\"History\"`: `78`  \n",
    "\n",
    "Then, perform the following:  \n",
    "1. Add a new subject `\"English\"` with a grade of `88`.  \n",
    "2. Update the `\"Math\"` grade to `92`.  \n",
    "3. Remove `\"History\"` from the dictionary.  \n",
    "4. Print all subjects and their corresponding grades.  \n",
    "```python\n",
    "# Expected Output:\n",
    "Math: 92\n",
    "Science: 90\n",
    "English: 88"
   ]
  },
  {
   "cell_type": "code",
   "execution_count": null,
   "metadata": {},
   "outputs": [],
   "source": [
    "# Type here your code"
   ]
  },
  {
   "cell_type": "markdown",
   "metadata": {},
   "source": [
    "- **Exercise 4**: Classes\n",
    "\n",
    "1. Define a class `NeuralNetwork` with the following properties:  \n",
    "   - `architecture` (string)  \n",
    "   - `layers` (integer)  \n",
    "   - `activation_function` (string)  \n",
    "\n",
    "2. Create an `__init__` method to initialize these attributes.  \n",
    "\n",
    "3. Add a method `get_info()` that returns a formatted string describing the neural network.  \n",
    "\n",
    "4. Instantiate a `NeuralNetwork` object with `\"Feedforward\"`, `5`, and `\"ReLU\"`.  \n",
    "\n",
    "5. Call the `get_info()` method and print the result.\n",
    "\n",
    "```python\n",
    "# Expected Output:"
   ]
  },
  {
   "cell_type": "code",
   "execution_count": null,
   "metadata": {},
   "outputs": [],
   "source": [
    "# Type here your code"
   ]
  },
  {
   "cell_type": "markdown",
   "metadata": {},
   "source": [
    "## Loops, Conditional Statements, Functions\n",
    "\n",
    "---"
   ]
  },
  {
   "cell_type": "markdown",
   "metadata": {},
   "source": [
    "### Loops \n",
    "\n",
    "Loops allow us to execute a block of code multiple times. Python has two main types of loops:  \n",
    "\n",
    "- **`for` loops** → Used for iterating over sequences (like lists, tuples, dictionaries, or strings).  \n",
    "- **`while` loops** → Runs as long as a given condition is `True`.  \n",
    "\n",
    "---"
   ]
  },
  {
   "cell_type": "markdown",
   "metadata": {},
   "source": [
    "**`for`** loop "
   ]
  },
  {
   "cell_type": "code",
   "execution_count": null,
   "metadata": {},
   "outputs": [],
   "source": [
    "# Looping through a list\n",
    "fruits = [\"apple\", \"banana\", \"cherry\"]\n",
    "for fruit in fruits:\n",
    "    print(fruit)\n"
   ]
  },
  {
   "cell_type": "markdown",
   "metadata": {},
   "source": [
    "**`for`** loop with range"
   ]
  },
  {
   "cell_type": "code",
   "execution_count": null,
   "metadata": {},
   "outputs": [],
   "source": [
    "# Using range to loop through numbers 0-4\n",
    "for i in range(5):\n",
    "    print(i)\n"
   ]
  },
  {
   "cell_type": "markdown",
   "metadata": {},
   "source": [
    "**`while` ** loop\n"
   ]
  },
  {
   "cell_type": "code",
   "execution_count": null,
   "metadata": {},
   "outputs": [],
   "source": [
    "# Looping while a condition is True\n",
    "count = 0\n",
    "while count < 3:\n",
    "    print(\"Count is:\", count)\n",
    "    count += 1\n"
   ]
  },
  {
   "cell_type": "markdown",
   "metadata": {},
   "source": [
    "### Vectorization\n",
    "- Vectorization is the process of performing operations on entire arrays or sequences of data **at once**, instead of using explicit loops. This technique takes advantage of **optimized low-level implementations** (such as those written in C or Fortran) to enhance **performance and efficiency**.\n",
    "\n",
    "- Important in Machine learning: \n",
    "  - **Performance Boost**: Significantly speeds up computations by eliminating slow Python loops.  \n",
    "  - **Cleaner Code**: Reduces code complexity and makes it more readable.  \n",
    "  - **Optimized Memory Usage**: Uses efficient memory management for handling large datasets.  \n",
    "\n",
    "- **Vectorization in Keras**  \n",
    "  - In **Keras**, deep learning models rely on **vectorized tensor operations** to speed up computations using **NumPy** and **TensorFlow** as backends. Operations like matrix multiplications, activations, and optimizations are heavily vectorized to improve performance.  \n",
    "\n",
    "- **Vectorization in JAX**  \n",
    "  - **JAX** is a high-performance computing library that excels in automatic differentiation and **just-in-time (JIT) compilation**. It uses **vectorized operations** for numerical computations, making deep learning models run much faster on CPUs and GPUs. JAX provides functions like `vmap()` for automatic vectorization, improving efficiency further.\n",
    "\n",
    "\n",
    "---"
   ]
  },
  {
   "cell_type": "markdown",
   "metadata": {},
   "source": [
    "Using `for` lops"
   ]
  },
  {
   "cell_type": "code",
   "execution_count": null,
   "metadata": {},
   "outputs": [],
   "source": [
    "numbers = [10, 20, 30, 40, 50, 60, 70, 80]\n",
    "\n",
    "selected = []\n",
    "for i in range(1, 6, 2):  # Start at index 1, stop before 6, step 2\n",
    "    selected.append(numbers[i])\n",
    "\n",
    "print(selected)  # Output: [20, 40, 60]"
   ]
  },
  {
   "cell_type": "markdown",
   "metadata": {},
   "source": [
    "Using List Slicing (Vectorized Approach)"
   ]
  },
  {
   "cell_type": "code",
   "execution_count": null,
   "metadata": {},
   "outputs": [],
   "source": [
    "selected_sliced = numbers[1:6:2]  # Start at index 1, stop before 6, step 2\n",
    "\n",
    "print(selected_sliced)  # Output: [20, 40, 60]\n"
   ]
  },
  {
   "cell_type": "markdown",
   "metadata": {},
   "source": [
    "Using List Comprehension (Pythonic Way)"
   ]
  },
  {
   "cell_type": "code",
   "execution_count": null,
   "metadata": {},
   "outputs": [],
   "source": [
    "selected_list_comp = [numbers[i] for i in range(1, 6, 2)]\n",
    "\n",
    "print(selected_list_comp)  # Output: [20, 40, 60]"
   ]
  },
  {
   "cell_type": "markdown",
   "metadata": {},
   "source": [
    "Using a Lambda Function (explained afertwards)"
   ]
  },
  {
   "cell_type": "code",
   "execution_count": null,
   "metadata": {},
   "outputs": [],
   "source": [
    "extract_elements = lambda lst: lst[1:6:2]\n",
    "\n",
    "print(extract_elements(numbers))  # Output: [20, 40, 60]"
   ]
  },
  {
   "cell_type": "markdown",
   "metadata": {},
   "source": [
    "### Conditional Statements\n",
    "\n",
    "(`if`, `if-else`, and `if-elif-else` Clauses)\n",
    "\n",
    "Conditional statements in Python allow the execution of different blocks of code depending on certain conditions.\n",
    "\n",
    "- **`if`**: Executes a block of code if the condition is `True`.  \n",
    "- **`elif` (else if)**: Checks another condition if the previous `if` condition was `False`. You can have multiple `elif` statements.  \n",
    "- **`else`**: Executes a block of code if none of the `if` or `elif` conditions are met. It acts as the default case.\n",
    "\n",
    "\n",
    "---"
   ]
  },
  {
   "cell_type": "code",
   "execution_count": null,
   "metadata": {},
   "outputs": [],
   "source": [
    "x = 7\n",
    "if x > 10:\n",
    "    print(\"x is greater than 10\")\n",
    "elif x > 5:\n",
    "    print(\"x is greater than 5 but not more than 10\")\n",
    "else:\n",
    "    print(\"x is 5 or less\")  # This will execute\n"
   ]
  },
  {
   "cell_type": "markdown",
   "metadata": {},
   "source": [
    "It is possible to include logical operators"
   ]
  },
  {
   "cell_type": "code",
   "execution_count": null,
   "metadata": {},
   "outputs": [],
   "source": [
    "score = 85\n",
    "attendance = 90\n",
    "\n",
    "if score >= 90 and attendance >= 80:\n",
    "    print(\"Excellent performance!\")  \n",
    "elif (score >= 70 and attendance >= 75) or (score >= 80 and attendance >= 60):\n",
    "    print(\"Good performance, but there’s room for improvement.\")\n",
    "elif score < 70 and (attendance < 75 or score < 50):\n",
    "    print(\"Needs significant improvement.\")\n",
    "else:\n",
    "    print(\"Performance is average.\")"
   ]
  },
  {
   "cell_type": "markdown",
   "metadata": {},
   "source": [
    "### Functions\n",
    "\n",
    "- A **function** is a reusable block of code that executes only when explicitly called.  \n",
    "- Functions allow code modularity, improving readability and maintainability.  \n",
    "- Functions can:  \n",
    "  - Accept **arguments** (or **parameters**) to modify their behavior.  \n",
    "  - Accept **any number** and **any type** of inputs.  \n",
    "  - Always **return a single object** (even if that object is a tuple, which may appear as multiple values).  \n",
    "- Syntax for defining a function:  \n",
    "\n",
    "```python\n",
    "def function_name(parameter1, parameter2):\n",
    "    # Function body (code to execute)\n",
    "    return some_value\n"
   ]
  },
  {
   "cell_type": "code",
   "execution_count": null,
   "metadata": {},
   "outputs": [],
   "source": [
    "# Function that takes two numbers and returns their sum\n",
    "def add_numbers(a, b):\n",
    "    return a + b\n",
    "\n",
    "# Using the function\n",
    "result = add_numbers(3, 5)\n",
    "print(result)  # Output: 8\n",
    "\n"
   ]
  },
  {
   "cell_type": "code",
   "execution_count": null,
   "metadata": {},
   "outputs": [],
   "source": [
    "# Function that returns multiple values (as a tuple)\n",
    "def min_max(values):\n",
    "    return min(values), max(values)\n",
    "\n",
    "# Calling the function\n",
    "numbers = [4, 7, 1, 9, 3]\n",
    "min_val, max_val = min_max(numbers)\n",
    "\n",
    "print(f\"Minimum: {min_val}, Maximum: {max_val}\")\n"
   ]
  },
  {
   "cell_type": "markdown",
   "metadata": {},
   "source": [
    "### Lambda Functions in Python  \n",
    "\n",
    "Lambda functions, also known as **anonymous functions**, are **small, single-line functions** that do not require a name. They are useful for **quick, simple operations** without formally defining a function using `def`.  \n"
   ]
  },
  {
   "cell_type": "code",
   "execution_count": null,
   "metadata": {},
   "outputs": [],
   "source": [
    "# Example: Squaring a list of numbers using lambda\n",
    "numbers = [1, 2, 3, 4, 5]\n",
    "squared_numbers = list(map(lambda x: x**2, numbers))\n",
    "\n",
    "print(squared_numbers)  # Output: [1, 4, 9, 16, 25]\n"
   ]
  },
  {
   "cell_type": "markdown",
   "metadata": {},
   "source": [
    "### Exercises\n",
    "\n",
    "---"
   ]
  },
  {
   "cell_type": "markdown",
   "metadata": {},
   "source": [
    "**Exercise 1**: Compute the Sum of Even Layer Sizes  \n",
    "In a neural network, the number of neurons in each layer is often defined as a list.  \n",
    "Write a function `sum_even_layers(layers)` that takes a list of integers representing layer sizes and returns the sum of the sizes of layers that contain an even number of neurons.\n",
    "\n",
    "Example:  \n",
    "```python\n",
    "sum_even_layers([32, 64, 128, 45, 23, 256])  # Output: 480 (32 + 64 + 128 + 256)\n"
   ]
  },
  {
   "cell_type": "code",
   "execution_count": null,
   "metadata": {},
   "outputs": [],
   "source": [
    "# Type here your code"
   ]
  },
  {
   "cell_type": "code",
   "execution_count": null,
   "metadata": {},
   "outputs": [],
   "source": [
    "def sum_even_layers(layers):\n",
    "    return sum(layer for layer in layers if layer % 2 == 0)\n",
    "\n",
    "# Example usage\n",
    "result = sum_even_layers([32, 64, 128, 45, 23, 256])\n",
    "print(result)  # Output: 480 (32 + 64 + 128 + 256)\n"
   ]
  },
  {
   "cell_type": "markdown",
   "metadata": {},
   "source": [
    "**Exercise 2**: Reverse an Activation Function Name  \n",
    "Activation functions such as `\"relu\"`, `\"sigmoid\"`, and `\"tanh\"` are widely used in neural networks.  \n",
    "Write a function `reverse_activation(name)` that takes an activation function name as a string and returns the reversed string.\n",
    "\n",
    "Example:  \n",
    "```python\n",
    "reverse_activation(\"relu\")  # Output: \"ruler\""
   ]
  },
  {
   "cell_type": "code",
   "execution_count": null,
   "metadata": {},
   "outputs": [],
   "source": [
    "# Type here your code"
   ]
  },
  {
   "cell_type": "markdown",
   "metadata": {},
   "source": [
    "**Exercise 3**: Count the Number of ReLU Activations.\n",
    "Given a list of activation functions used in a neural network, write a function `count_relu(activations)` that counts how many times `\"relu\"` appears.\n",
    "\n",
    "Example:  \n",
    "```python\n",
    "count_relu([\"relu\", \"sigmoid\", \"relu\", \"tanh\", \"relu\", \"softmax\"])  # Output: 3\n"
   ]
  },
  {
   "cell_type": "code",
   "execution_count": null,
   "metadata": {},
   "outputs": [],
   "source": [
    "# Type here your code<"
   ]
  },
  {
   "cell_type": "markdown",
   "metadata": {},
   "source": [
    "## Modules and External Libraries\n",
    "\n",
    "- In programming, a **module** is a piece of software that has a specific functionality.  \n",
    "- For example, when building a **neural network**, one module may handle the **data preprocessing**, while another module is responsible for **model training** or **performance evaluation**.\n",
    "- Think of **Modules, Packages, and Libraries** as **programs written by other developers**. Instead of coding everything from scratch, you can use them.\n",
    "- Before using a module, you **must import** it into your script.\n",
    "\n",
    "---"
   ]
  },
  {
   "cell_type": "code",
   "execution_count": null,
   "metadata": {},
   "outputs": [],
   "source": [
    "#Numpy arrays are great alternatives to Python Lists. Some of the key advantages of Numpy arrays are that they are fast, easy to work with, and give users the opportunity to perform calculations across entire arrays.\n",
    "\n",
    "import numpy as np  # Importing the NumPy library\n",
    "\n",
    "# Creating a simple NumPy array\n",
    "data = np.array([1, 2, 3, 4, 5])\n",
    "\n",
    "# Performing a basic operation (element-wise multiplication)\n",
    "scaled_data = data * 2  \n",
    "\n",
    "print(scaled_data)  # Output: [ 2  4  6  8 10]\n"
   ]
  },
  {
   "cell_type": "code",
   "execution_count": null,
   "metadata": {},
   "outputs": [],
   "source": [
    "# Pandas is a high-level data manipulation tool developed by Wes McKinney. It is built on the Numpy package and its key data structure is called the DataFrame. DataFrames allow you to store and manipulate tabular data in rows of observations and columns of variables.\n",
    "\n",
    "\n",
    "\n",
    "# Creating a dict to store data on brics\n",
    "bricsdata = {\"country\": [\"Brazil\", \"Russia\", \"India\", \"China\", \"South Africa\"],\n",
    "       \"capital\": [\"Brasilia\", \"Moscow\", \"New Dehli\", \"Beijing\", \"Pretoria\"],\n",
    "       \"area\": [8.516, 17.10, 3.286, 9.597, 1.221],\n",
    "       \"population\": [200.4, 143.5, 1252, 1357, 52.98] }\n",
    "\n",
    "# Import the pandas package as pd\n",
    "import pandas as pd\n",
    "\n",
    "# Create pandas dataframe from brics data\n",
    "brics = pd.DataFrame(bricsdata)\n",
    "# print(brics)\n",
    "\n",
    "# Set the index for brics\n",
    "brics.index = [\"BR\", \"RU\", \"IN\", \"CH\", \"SA\"]\n",
    "\n",
    "# Print out brics with new index values\n",
    "print(brics)\n",
    "     \n"
   ]
  },
  {
   "cell_type": "markdown",
   "metadata": {},
   "source": [
    "## Numerics: NumPy\n",
    "\n",
    "- **NumPy** (Numerical Python) is a fundamental library for numerical computations in Python. It provides support for **multi-dimensional arrays** and **mathematical functions** to operate on them efficiently.  \n",
    "\n",
    "- <u>**Why Use NumPy**</u>\n",
    "\n",
    "    - **Fast and efficient**: Operations on NumPy arrays are much faster than Python lists.  \n",
    "    - **Support for multi-dimensional arrays**: Essential for machine learning and data processing.  \n",
    "    - **Built-in mathematical functions**: Enables complex computations with ease.  \n",
    "\n",
    "\n",
    "---"
   ]
  },
  {
   "cell_type": "code",
   "execution_count": null,
   "metadata": {},
   "outputs": [],
   "source": [
    "# Importing NumPy\n",
    "\n",
    "# Before using NumPy, it must be imported: \n",
    "\n",
    "import numpy as np\n"
   ]
  },
  {
   "cell_type": "markdown",
   "metadata": {},
   "source": [
    "Entering `fun?` in Python will display the documentation for the function `fun`, if available.  \n",
    "Let's test this with `np.array()`.  \n"
   ]
  },
  {
   "cell_type": "code",
   "execution_count": null,
   "metadata": {},
   "outputs": [],
   "source": [
    "#np.array?\n"
   ]
  },
  {
   "cell_type": "markdown",
   "metadata": {},
   "source": [
    "### Array Creation\n",
    "---"
   ]
  },
  {
   "cell_type": "markdown",
   "metadata": {},
   "source": [
    "In `numpy`, an *array* refers to a multidimensional collection of numerical values.  \n",
    "We can create one-dimensional arrays, also known as vectors, using the `np.array()` function.  \n",
    "\n",
    "Below, `x` and `y` are examples of such arrays.\n"
   ]
  },
  {
   "cell_type": "code",
   "execution_count": null,
   "metadata": {},
   "outputs": [],
   "source": [
    "x = np.array([1, 2, 3])\n",
    "y = np.array([4, 5, 6])\n",
    "\n",
    "print(\"Array x:\", x)\n",
    "print(\"Array y:\", y)\n"
   ]
  },
  {
   "cell_type": "markdown",
   "metadata": {},
   "source": [
    "Because `x` and `y` were created with `np.array()`, adding them together produces the expected result.  \n",
    "This differs from the behavior seen earlier when attempting to add two standard Python lists without using `numpy`.  \n"
   ]
  },
  {
   "cell_type": "code",
   "execution_count": null,
   "metadata": {},
   "outputs": [],
   "source": [
    "x + y"
   ]
  },
  {
   "cell_type": "markdown",
   "metadata": {},
   "source": [
    "In `numpy`, matrices are usually represented as two-dimensional arrays, while vectors are one-dimensional arrays.  \n",
    "{Although `np.matrix()` can also be used to define matrices, we will rely on `np.array()` throughout these labs.}  \n",
    "A two-dimensional array can be created as shown below.  \n"
   ]
  },
  {
   "cell_type": "code",
   "execution_count": null,
   "metadata": {},
   "outputs": [],
   "source": [
    "x = np.array([[1, 2], [3, 4]])\n",
    "x"
   ]
  },
  {
   "cell_type": "markdown",
   "metadata": {},
   "source": [
    "Another useful routine is `linspace` for creating linearly spaced values in an interval. For instance, to create 10 values in `[0, 1]`, we can use"
   ]
  },
  {
   "cell_type": "code",
   "execution_count": null,
   "metadata": {},
   "outputs": [],
   "source": [
    "np.linspace(0, 1, 10)"
   ]
  },
  {
   "cell_type": "markdown",
   "metadata": {},
   "source": [
    "The object `x` comes with multiple *attributes*—associated properties that provide useful information.  \n",
    "To access an attribute of `x`, we use the syntax `x.attribute`, replacing `attribute` with the specific name.  \n",
    "For example, we can retrieve the `ndim` attribute of `x` as shown below.  \n"
   ]
  },
  {
   "cell_type": "code",
   "execution_count": null,
   "metadata": {},
   "outputs": [],
   "source": [
    "x.ndim"
   ]
  },
  {
   "cell_type": "markdown",
   "metadata": {},
   "source": [
    "The result tells us that `x` is a two-dimensional array.  \n",
    "Likewise, the `x.dtype` attribute reveals the *data type* of `x`, showing that it consists of 64-bit integers:  \n"
   ]
  },
  {
   "cell_type": "code",
   "execution_count": null,
   "metadata": {},
   "outputs": [],
   "source": [
    "x.dtype"
   ]
  },
  {
   "cell_type": "markdown",
   "metadata": {},
   "source": [
    "Why does `x` contain integers? This happens because we constructed `x` using only integer values with the `np.array()` function.  \n",
    "If we had included any decimal numbers, the resulting array would consist of *floating point numbers* (i.e., real numbers).  \n"
   ]
  },
  {
   "cell_type": "code",
   "execution_count": null,
   "metadata": {},
   "outputs": [],
   "source": [
    "np.array([[1, 2], [3.0, 4]]).dtype\n"
   ]
  },
  {
   "cell_type": "markdown",
   "metadata": {},
   "source": [
    "The array `x` is a two-dimensional structure. To determine the number of rows and columns it contains, we can check its `shape` attribute.  \n"
   ]
  },
  {
   "cell_type": "code",
   "execution_count": null,
   "metadata": {},
   "outputs": [],
   "source": [
    "x.shape\n"
   ]
  },
  {
   "cell_type": "markdown",
   "metadata": {},
   "source": [
    "### Basic Operations\n",
    "---"
   ]
  },
  {
   "cell_type": "markdown",
   "metadata": {},
   "source": [
    "In NumPy, functions that perform element-wise operations on arrays are known as [universal functions](https://numpy.org/doc/stable/reference/ufuncs.html).  \n"
   ]
  },
  {
   "cell_type": "code",
   "execution_count": null,
   "metadata": {},
   "outputs": [],
   "source": [
    "np.sin(x)"
   ]
  },
  {
   "cell_type": "markdown",
   "metadata": {},
   "source": [
    "Arrays support direct arithmetic operations.  \n",
    "For example, if two arrays have compatible shapes, we can add them together like this:  \n"
   ]
  },
  {
   "cell_type": "code",
   "execution_count": null,
   "metadata": {},
   "outputs": [],
   "source": [
    "array_a = np.array([1, 2, 3])\n",
    "array_b = np.array([4, 5, 6])\n",
    "array_a + array_b"
   ]
  },
  {
   "cell_type": "markdown",
   "metadata": {},
   "source": [
    "A *method* is a function that belongs to a specific object.  \n",
    "For example, if we have an array `x`, we can use the `sum()` method to compute the sum of all its elements by calling `x.sum()`.  \n",
    "This function call impl*Another* important operation is `reshape`, for changing the shape of an arrayicitly passes `x` as the first argument to its `sum()` method.\n",
    "\n",
    "Example: Sum elements of `x` by passing in `x` as an argument to the `np.sum()` function. "
   ]
  },
  {
   "cell_type": "code",
   "execution_count": null,
   "metadata": {},
   "outputs": [],
   "source": [
    "x = np.array([1, 2, 3, 4])\n",
    "np.sum(x)"
   ]
  },
  {
   "cell_type": "markdown",
   "metadata": {},
   "source": [
    "Another example is the `reshape()` method, which generates a new array with the same elements as `x` but a different shape.  \n",
    "To achieve this, we pass a `tuple` as an argument to `reshape()`. For instance, `(2, 3)` specifies that we want a two-dimensional array with 2 rows and 3 columns.  \n",
    "\n",
    "{Tuples, like lists, represent a sequence of objects. The key difference is that tuples are *immutable*, meaning their elements cannot be changed after creation, whereas lists allow modifications.}  \n",
    "\n",
    "In the following example, the `\\n` character is used to create a *new line* in the output.  \n"
   ]
  },
  {
   "cell_type": "code",
   "execution_count": null,
   "metadata": {},
   "outputs": [],
   "source": [
    "x = np.array([1, 2, 3, 4, 5, 6])\n",
    "print('beginning x:\\n', x)\n",
    "x_reshape = x.reshape((2, 3))\n",
    "print('reshaped x:\\n', x_reshape)\n"
   ]
  },
  {
   "cell_type": "markdown",
   "metadata": {},
   "source": [
    "The output above shows that `numpy` arrays are structured as a sequence of *rows*.  \n",
    "This arrangement is known as **row-major ordering**, in contrast to *column-major ordering*.  \n"
   ]
  },
  {
   "cell_type": "markdown",
   "metadata": {},
   "source": [
    "In `Python` (and therefore `numpy`), indexing starts at 0.  \n",
    "This means that to retrieve the top-left element of `x_reshape`, we use `x_reshape[0,0]`.  \n"
   ]
  },
  {
   "cell_type": "code",
   "execution_count": null,
   "metadata": {},
   "outputs": [],
   "source": [
    "x_reshape[0, 0] "
   ]
  },
  {
   "cell_type": "markdown",
   "metadata": {},
   "source": [
    "We can create and reshape together"
   ]
  },
  {
   "cell_type": "code",
   "execution_count": null,
   "metadata": {},
   "outputs": [],
   "source": [
    "A = np.array(np.arange(16)).reshape((4, 4))\n",
    "A"
   ]
  },
  {
   "cell_type": "markdown",
   "metadata": {},
   "source": [
    "Let's take a quick look at some useful attributes of arrays.  \n",
    "The `shape` attribute returns the array's dimensions as a tuple.  \n",
    "The `ndim` attribute indicates the number of dimensions, while `T` gives the array's transpose.  \n"
   ]
  },
  {
   "cell_type": "code",
   "execution_count": null,
   "metadata": {},
   "outputs": [],
   "source": [
    "print('x_reshape     :\\n', x_reshape)\n",
    "print('shape         :', x_reshape.shape)\n",
    "print('nr. dimensions:', x_reshape.ndim)\n",
    "print('transpose     :\\n', x_reshape.T)"
   ]
  },
  {
   "cell_type": "markdown",
   "metadata": {},
   "source": [
    "Like Python lists, NumPy arrays support slicing\n"
   ]
  },
  {
   "cell_type": "code",
   "execution_count": null,
   "metadata": {},
   "outputs": [],
   "source": [
    "np.arange(10)[5:]"
   ]
  },
  {
   "cell_type": "markdown",
   "metadata": {},
   "source": [
    "We can also select only certain elements from the array"
   ]
  },
  {
   "cell_type": "code",
   "execution_count": null,
   "metadata": {},
   "outputs": [],
   "source": [
    "x = np.arange(10)\n",
    "mask = x >= 5\n",
    "x[mask]"
   ]
  },
  {
   "cell_type": "markdown",
   "metadata": {},
   "source": [
    "### Exercises\n",
    "\n",
    "---"
   ]
  },
  {
   "cell_type": "markdown",
   "metadata": {},
   "source": [
    "**Exercise 1** : More simple\n",
    "\n",
    "Create a 3x3 NumPy array filled with numbers from 1 to 9.  \n",
    "1. Access and print the element in the second row, third column.  \n",
    "2. Modify this element to be 99 and print the updated array.  \n",
    "\n",
    "```python\n",
    "#Expected Output:\n",
    "Updated array:\n",
    " [[ 1  2  3]\n",
    " [ 4  5 99]\n",
    " [ 7  8  9]]\n"
   ]
  },
  {
   "cell_type": "code",
   "execution_count": null,
   "metadata": {},
   "outputs": [],
   "source": [
    "# Type here your code"
   ]
  },
  {
   "cell_type": "markdown",
   "metadata": {},
   "source": [
    "**Exercise 2**: More advanced\n",
    "\n",
    "1. Manually create a **4×5 NumPy array** containing integer values.\n",
    "2. Print the **shape**, **data type**, and **number of dimensions** of the array.\n",
    "3. Convert the array’s data type to `float64` and print the updated data type.\n",
    "4. **Reshape** the array into a **2×10** array and print the new shape.\n",
    "5. **Flatten** the array into a one-dimensional array and print its shape (use `flatten` method).\n",
    "```python\n",
    "#Expected Output:\n",
    "Original Array:\n",
    " [[12 23 34 45 56]\n",
    " [67 78 89 90 12]\n",
    " [21 32 43 54 65]\n",
    " [76 87 98 11 22]]\n",
    "Shape: (4, 5)\n",
    "Data Type: int64\n",
    "Number of Dimensions: 2\n",
    "Updated Data Type: float64\n",
    "New Shape (2x10): (2, 10)\n",
    "Flattened Shape: (20,)"
   ]
  },
  {
   "cell_type": "code",
   "execution_count": null,
   "metadata": {},
   "outputs": [],
   "source": [
    "# Type here your code"
   ]
  },
  {
   "cell_type": "markdown",
   "metadata": {},
   "source": [
    "---"
   ]
  },
  {
   "cell_type": "markdown",
   "metadata": {},
   "source": [
    "### Numerical Python\n",
    "---"
   ]
  },
  {
   "cell_type": "markdown",
   "metadata": {},
   "source": [
    "#### Random Module\n",
    "\n",
    "The `np.random` module in NumPy provides functions for generating random numbers, which are useful in simulations, machine learning, and statistical modeling.  \n",
    "\n",
    "**Key Functionalities:**  \n",
    "- **Generating random integers:** `np.random.randint(low, high, size, dtype)`  \n",
    "- **Generating random floats:** `np.random.random(size)` or `np.random.rand(dim1, dim2, ...)`  \n",
    "- **Sampling from distributions:** `np.random.normal(mean, std, size)`, `np.random.uniform(low, high, size)`  \n",
    "- **Shuffling arrays:** `np.random.shuffle(arr)`  \n",
    "- **Setting a random seed:** `np.random.seed(seed_value)` (for reproducibility)  \n",
    "\n",
    "---"
   ]
  },
  {
   "cell_type": "markdown",
   "metadata": {},
   "source": [
    "We generate 50 independent random variables from a $N(0,1)$ distribution. "
   ]
  },
  {
   "cell_type": "code",
   "execution_count": null,
   "metadata": {},
   "outputs": [],
   "source": [
    "x = np.random.normal(size=50)\n",
    "x"
   ]
  },
  {
   "cell_type": "markdown",
   "metadata": {},
   "source": [
    "We get a **different set of results** any time we execute. We need to fix the seeding."
   ]
  },
  {
   "cell_type": "markdown",
   "metadata": {},
   "source": [
    "When working with **random number generation** in NumPy, results will vary each time the code is executed. \n",
    "\n",
    "To ensure **reproducibility**, we can set a **random seed** using `np.random.seed()`.\n",
    "\n",
    "This ensures that the same sequence of random numbers is generated every time the script runs.\n",
    "\n",
    "**Why Use a Random Seed?**\n",
    "- Guarantees **consistent results** across multiple runs.\n",
    "- Essential for **debugging** and comparing results.\n",
    "- Useful when **training machine learning models** to ensure reproducibility.\n",
    "\n",
    "**How to Set a Random Seed**\n",
    "```python\n",
    "# Set the seed for reproducibility\n",
    "np.random.seed(42)"
   ]
  },
  {
   "cell_type": "code",
   "execution_count": null,
   "metadata": {},
   "outputs": [],
   "source": [
    "np.random.seed(42)\n",
    "x = np.random.normal(size=50)\n",
    "x"
   ]
  },
  {
   "cell_type": "markdown",
   "metadata": {},
   "source": [
    "#### Statistics  \n",
    "\n",
    "NumPy provides powerful tools for statistical analysis, making it a fundamental library for data science and IA. It offers various functions to compute descriptive statistics, such as mean, median, standard deviation, and correlation.  \n",
    "\n",
    "**Commonly Used Statistical Functions in NumPy**:\n",
    "- `np.mean()`: Computes the mean (average) of an array.\n",
    "- `np.median()`: Finds the median value.\n",
    "- `np.std()`: Calculates the standard deviation.\n",
    "- `np.var()`: Computes the variance.\n",
    "- `np.min()` / `np.max()`: Returns the minimum and maximum values.\n",
    "- `np.percentile()`: Finds specific percentiles in the dataset.\n",
    "- `np.corrcoef()`: Computes the correlation matrix.\n",
    "- `np.histogram()`: Creates a histogram representation of data.\n",
    "\n",
    "Example:\n",
    "\n",
    "---"
   ]
  },
  {
   "cell_type": "code",
   "execution_count": null,
   "metadata": {},
   "outputs": [],
   "source": [
    "# Set random seed for reproducibility\n",
    "np.random.seed(42)\n",
    "\n",
    "# Generate random dataset (100 values from a normal distribution)\n",
    "# np.random.normal(mean, std, size)\n",
    "data = np.random.normal(loc=50, scale=15, size=100)\n",
    "\n",
    "# Compute basic statistics\n",
    "mean_value = np.mean(data)\n",
    "median_value = np.median(data)\n",
    "std_dev = np.std(data)\n",
    "variance = np.var(data)\n",
    "min_value = np.min(data)\n",
    "max_value = np.max(data)\n",
    "\n",
    "# Compute percentiles\n",
    "q25 = np.percentile(data, 25)  # 25th percentile\n",
    "q50 = np.percentile(data, 50)  # Median (50th percentile)\n",
    "q75 = np.percentile(data, 75)  # 75th percentile\n",
    "\n",
    "print(\"Mean:\", mean_value)\n",
    "print(\"Median:\", median_value)\n",
    "print(\"Standard Deviation:\", std_dev)\n",
    "print(\"Variance:\", variance)\n",
    "print(\"Variance hand:\", np.mean((y - y.mean())**2))\n",
    "print(\"Min:\", min_value, \"Max:\", max_value)\n",
    "print(\"25th Percentile:\", q25)\n",
    "print(\"50th Percentile (Median):\", q50)\n",
    "print(\"75th Percentile:\", q75)\n"
   ]
  },
  {
   "cell_type": "markdown",
   "metadata": {},
   "source": [
    "#### Exercises\n",
    "\n",
    "---"
   ]
  },
  {
   "cell_type": "markdown",
   "metadata": {},
   "source": [
    "**Exercise 1**: Vectorizing a Loop.\n",
    "You are given a list of numbers representing the **weights of different neurons** in a neural network:\n",
    "\n",
    "weights = [0.5, 1.2, 0.8, 1.5, 2.0, 1.1]\n",
    "\n",
    "Write a Python program that **doubles the weights of neurons 2 to 4** (indices **1 to 3**) using a **for loop**.  \n",
    "\n",
    "Then, optimize your solution by **vectorizing the operation** using NumPy.  \n",
    "\n",
    "\n",
    "EXTRA:\n",
    "- Compute the same with a Pythonic concise approach.\n",
    "- Compute the same using a lambda function.\n",
    "\n",
    "```python\n",
    "#Expected Output:\n",
    "Original Weights:        [0.5, 1.2, 0.8, 1.5, 2.0, 1.1]\n",
    "Modified Weights:        [0.5, 2.4, 1.6, 3.0, 2.0, 1.1]"
   ]
  },
  {
   "cell_type": "code",
   "execution_count": null,
   "metadata": {},
   "outputs": [],
   "source": [
    "# Type here your code"
   ]
  },
  {
   "cell_type": "markdown",
   "metadata": {},
   "source": [
    "**Exercise 2** \n",
    "\n",
    "Generate two **random datasets** of **250 values** each:  \n",
    "\n",
    "1. One using `np.random.uniform()` (floating-point values between **10 and 100**).  \n",
    "2. Another using `np.random.normal()` (normally distributed data with a **mean of 55** and **standard deviation of 15**).  \n",
    "\n",
    "Perform the following tasks:  \n",
    "- Compute the **correlation coefficient matrix** between the two datasets (use `np.corrcoef`function).  \n",
    "\n",
    "EXTRA:\n",
    "- Compute the **skewness** and **kurtosis** of each dataset.  \n",
    "- Find the **5th, 25th, 50th (median), 75th, and 95th percentiles** of each dataset.  \n",
    "- Normalize both datasets to have **zero mean and unit variance** (standardization).  \n",
    "- After standardization, compute the **new mean and standard deviation** of both datasets to verify correctness.\n",
    "```python\n",
    "#Expected Output:\n",
    "Correlation Matrix:\n",
    " [[1.         0.15091028]\n",
    " [0.15091028 1.        ]]\n",
    "\n",
    "Dataset 1 - Skewness: -0.021627525735899496 Kurtosis: -1.1870764128816396\n",
    "Dataset 2 - Skewness: 0.18293757051883225 Kurtosis: -0.24073860946709047\n",
    "\n",
    "Dataset 1 Percentiles (5th, 25th, 50th, 75th, 95th): [13.33850554 31.8284978  56.2777033  74.25925726 94.8033551 ]\n",
    "Dataset 2 Percentiles (5th, 25th, 50th, 75th, 95th): [31.49070116 43.6842296  54.76930068 64.43962013 78.90635409]\n",
    "\n",
    "After Standardization - Dataset 1 Mean: -1.5987211554602254e-16 Std Dev: 1.0\n",
    "After Standardization - Dataset 2 Mean: -2.0605739337042906e-16 Std Dev: 1.0"
   ]
  },
  {
   "cell_type": "code",
   "execution_count": null,
   "metadata": {},
   "outputs": [],
   "source": [
    "# Type here your code"
   ]
  },
  {
   "cell_type": "markdown",
   "metadata": {},
   "source": [
    "## Graphics: Matplotlib\n",
    "\n",
    "- It provides tools to plot data in various formats and for creating **static, animated, and interactive visualizations**.\n",
    "\n",
    "- In the context of **Neural Networks**, visualization is crucial for:\n",
    "  - Understanding **data distributions** before training.\n",
    "  - Monitoring **loss and accuracy curves** during training.\n",
    "  - Visualizing **activation functions and decision boundaries**.\n",
    "  - Inspecting **model predictions** and errors.\n",
    "\n",
    "---"
   ]
  },
  {
   "cell_type": "code",
   "execution_count": null,
   "metadata": {},
   "outputs": [],
   "source": [
    "from matplotlib import pyplot as plt"
   ]
  },
  {
   "cell_type": "markdown",
   "metadata": {},
   "source": [
    "### Plot\n",
    "We can generate data and plot it as a smooth line.\n"
   ]
  },
  {
   "cell_type": "code",
   "execution_count": null,
   "metadata": {},
   "outputs": [],
   "source": [
    "x_values = np.linspace(-3, 3, 100)\n",
    "\n",
    "plt.figure()\n",
    "plt.plot(x_values, np.sin(x_values), label=\"Sinusoid\")\n",
    "plt.xlabel(\"x\")\n",
    "plt.ylabel(\"sin(x)\")\n",
    "plt.title(\"Matplotlib example\")\n",
    "plt.legend(loc=\"upper left\")\n",
    "plt.show()"
   ]
  },
  {
   "cell_type": "markdown",
   "metadata": {},
   "source": [
    "### Scattered Plot\n",
    "We can visualize the relationship between two sets of randomly generated data points. This is useful for understanding data distribution before applying other techniques."
   ]
  },
  {
   "cell_type": "code",
   "execution_count": null,
   "metadata": {},
   "outputs": [],
   "source": [
    "# Generate random data\n",
    "np.random.seed(42)\n",
    "x = np.random.rand(100)\n",
    "y = x * 2 + np.random.normal(0, 0.1, 100)  # Linear relation with noise\n",
    "\n",
    "# Scatter plot\n",
    "plt.figure(figsize=(7, 5))\n",
    "plt.scatter(x, y, c=y, cmap=\"viridis\", alpha=0.7)\n",
    "plt.colorbar(label=\"Value Intensity\")\n",
    "plt.xlabel(\"Feature 1\")\n",
    "plt.ylabel(\"Feature 2\")\n",
    "plt.title(\"Scatter Plot of Random Data\")\n",
    "plt.show()\n"
   ]
  },
  {
   "cell_type": "markdown",
   "metadata": {},
   "source": [
    "### Histogram\n",
    "We can plot histograms of data to obtain information about the distribution of the data."
   ]
  },
  {
   "cell_type": "code",
   "execution_count": null,
   "metadata": {},
   "outputs": [],
   "source": [
    "# Generate normally distributed data\n",
    "data = np.random.normal(loc=0, scale=1, size=1000)\n",
    "\n",
    "# Histogram\n",
    "plt.figure(figsize=(7, 5))\n",
    "plt.hist(data, bins=30, color=\"blue\", alpha=0.7, edgecolor=\"black\")\n",
    "plt.xlabel(\"Value\")\n",
    "plt.ylabel(\"Frequency\")\n",
    "plt.title(\"Histogram of Normally Distributed Data\")\n",
    "plt.show()\n"
   ]
  },
  {
   "cell_type": "markdown",
   "metadata": {},
   "source": [
    "### Boxplots\n",
    "To represent distributions of different data at the same time. This is useful for comparing different categories in a dataset."
   ]
  },
  {
   "cell_type": "code",
   "execution_count": null,
   "metadata": {},
   "outputs": [],
   "source": [
    "# Generate random data for different groups\n",
    "group_1 = np.random.normal(0, 1, 100)\n",
    "group_2 = np.random.normal(1, 1, 100)\n",
    "group_3 = np.random.normal(2, 1, 100)\n",
    "\n",
    "# Create boxplot\n",
    "plt.figure(figsize=(7, 5))\n",
    "plt.boxplot([group_1, group_2, group_3], tick_labels=[\"Group 1\", \"Group 2\", \"Group 3\"])\n",
    "plt.xlabel(\"Groups\")\n",
    "plt.ylabel(\"Values\")\n",
    "plt.title(\"Boxplot of Random Data Groups\")\n",
    "plt.show()\n"
   ]
  },
  {
   "cell_type": "markdown",
   "metadata": {},
   "source": [
    "### Cost Function Evolution \n",
    "Typical Plot in Deep Learning Problems"
   ]
  },
  {
   "cell_type": "code",
   "execution_count": null,
   "metadata": {},
   "outputs": [],
   "source": [
    "# Simulating loss function values for training and testing\n",
    "epochs = np.arange(1, 101)  # 100 epochs\n",
    "train_loss = np.exp(-epochs / 20) + np.random.normal(0, 0.02, len(epochs))  # Simulated decay with noise\n",
    "test_loss = np.exp(-epochs / 25) + np.random.normal(0, 0.02, len(epochs)) + 0.1  # Slightly different decay with noise\n",
    "\n",
    "# Plotting the cost function evolution\n",
    "plt.figure(figsize=(8, 5))\n",
    "plt.plot(epochs, train_loss, label=\"Training Loss\", color='blue', linewidth=2)\n",
    "plt.plot(epochs, test_loss, label=\"Validation Loss\", color='red', linestyle='dashed', linewidth=2)\n",
    "\n",
    "# Highlighting key points\n",
    "plt.scatter([epochs[-1]], [train_loss[-1]], color='blue', edgecolor='black', zorder=3)\n",
    "plt.scatter([epochs[-1]], [test_loss[-1]], color='red', edgecolor='black', zorder=3)\n",
    "\n",
    "# Adding labels and title\n",
    "plt.xlabel(\"Epochs\")\n",
    "plt.ylabel(\"Loss\")\n",
    "plt.title(\"Training vs Validation Loss Evolution\")\n",
    "plt.legend()\n",
    "plt.grid(True)\n",
    "\n",
    "# Show the plot\n",
    "plt.show()\n"
   ]
  },
  {
   "cell_type": "markdown",
   "metadata": {},
   "source": [
    "### Exercises\n",
    "Generate a dataset of **random values following a normal distribution** (Gaussian) with **mean = 50 and standard deviation = 10**.  \n",
    "- **Plot a histogram** of the dataset with appropriate bins.  \n",
    "- **Overlay the probability density function (PDF)** of the corresponding normal distribution.\n",
    "- Label the axes and add a title to the plot.\n",
    "\n",
    "To compute the PDF use the scipy library as follows:\n",
    "```python\n",
    "\n",
    "from scipy.stats import norm\n",
    "\n",
    "(...)\n",
    "pdf = norm.pdf(x, mean, std_dev)  # Compute PDF values\n",
    "\n",
    "\n",
    "# Expected Output: An histogram with a red line."
   ]
  },
  {
   "cell_type": "code",
   "execution_count": null,
   "metadata": {},
   "outputs": [],
   "source": [
    "# Type here your code"
   ]
  },
  {
   "cell_type": "markdown",
   "metadata": {},
   "source": [
    "## Data Management: Pandas\n",
    "\n",
    "- Datasets often contain various data types and may include labeled rows or columns.  \n",
    "\n",
    "- Pandas is a powerful **Python library** for **data manipulation and analysis**. It provides two primary data structures:\n",
    "\n",
    "  - **Series** (1D labeled array)  \n",
    "  - **DataFrame** (2D table similar to an Excel spreadsheet)  \n",
    "\n",
    "\n",
    "- A **DataFrame** is commonly used to handle such structured data efficiently since it can be thought of as a collection of **columns**, where each column is an array of the same length.  \n",
    "Rows are formed by combining corresponding entries from each column.  \n",
    "\n",
    "---"
   ]
  },
  {
   "cell_type": "code",
   "execution_count": null,
   "metadata": {},
   "outputs": [],
   "source": [
    "import pandas as pd\n"
   ]
  },
  {
   "cell_type": "markdown",
   "metadata": {},
   "source": [
    "### Create\n",
    "We can create a DataFrame from a dictionary"
   ]
  },
  {
   "cell_type": "code",
   "execution_count": null,
   "metadata": {},
   "outputs": [],
   "source": [
    "data = {\n",
    "    \"Name\": [\"Alice\", \"Bob\", \"Charlie\"],\n",
    "    \"Age\": [25, 30, 35],\n",
    "    \"Salary\": [50000, 60000, 70000]\n",
    "}\n",
    "\n",
    "df = pd.DataFrame(data)\n",
    "print(df)\n"
   ]
  },
  {
   "cell_type": "markdown",
   "metadata": {},
   "source": [
    "### Load from csv\n",
    "We can load a .csv"
   ]
  },
  {
   "cell_type": "code",
   "execution_count": null,
   "metadata": {},
   "outputs": [],
   "source": [
    "df = pd.read_csv(\"data.csv\")  # Load data from a CSV file\n",
    "print(df.head())  # Display the first 5 rows\n"
   ]
  },
  {
   "cell_type": "markdown",
   "metadata": {},
   "source": [
    "### Access\n",
    "We can access and filter some data\n"
   ]
  },
  {
   "cell_type": "code",
   "execution_count": null,
   "metadata": {},
   "outputs": [],
   "source": [
    "print(df[\"Pulse\"])  # Access a specific column\n",
    "print(df.iloc[0])  # Access the first row\n",
    "print(df.loc[df[\"Pulse\"] > 110])  # Filter rows where Age > 28\n"
   ]
  },
  {
   "cell_type": "markdown",
   "metadata": {},
   "source": [
    "### Save to csv"
   ]
  },
  {
   "cell_type": "code",
   "execution_count": null,
   "metadata": {},
   "outputs": [],
   "source": [
    "# Create a sample DataFrame\n",
    "data = {\n",
    "    \"Name\": [\"Alice\", \"Bob\", \"Charlie\"],\n",
    "    \"Age\": [25, 30, 35],\n",
    "    \"City\": [\"New York\", \"Los Angeles\", \"Chicago\"]\n",
    "}\n",
    "\n",
    "df = pd.DataFrame(data)\n",
    "\n",
    "print(df)  \n",
    "\n",
    "# Save the DataFrame to a CSV file\n",
    "df.to_csv(\"sample_data.csv\", index=False)\n",
    "\n",
    "print(\"Data saved successfully to sample_data.csv\")\n"
   ]
  },
  {
   "cell_type": "markdown",
   "metadata": {},
   "source": [
    "### Other Operations"
   ]
  },
  {
   "cell_type": "markdown",
   "metadata": {},
   "source": [
    "If a value is missing, we can substitute it\n"
   ]
  },
  {
   "cell_type": "code",
   "execution_count": null,
   "metadata": {},
   "outputs": [],
   "source": [
    "# A DataFrame with missing values\n",
    "data = {\n",
    "    \"Name\": [\"Alice\", \"Bob\", \"Charlie\", \"David\"],\n",
    "    \"Age\": [25, np.nan, 35, 40],  # Missing value in Age\n",
    "    \"City\": [\"New York\", \"Los Angeles\", np.nan, \"Chicago\"]  # Missing value in City\n",
    "}\n",
    "\n",
    "df_missing = pd.DataFrame(data)\n",
    "\n",
    "# Display the DataFrame with missing values\n",
    "print(\"Original DataFrame with Missing Values:\\n\", df_missing)\n",
    "\n",
    "# Handling missing values: Fill missing values with a default value\n",
    "df_filled = df_missing.fillna({\"Age\": df_missing[\"Age\"].mean(), \"City\": \"Unknown\"})\n",
    "\n",
    "print(\"\\nDataFrame after Filling Missing Values:\\n\", df_filled)\n",
    "\n",
    "# Alternatively, drop rows with missing values\n",
    "df_dropped = df_missing.dropna()\n",
    "\n",
    "print(\"\\nDataFrame after Dropping Missing Values:\\n\", df_dropped)\n",
    "\n"
   ]
  },
  {
   "cell_type": "markdown",
   "metadata": {},
   "source": [
    "We can sort the data"
   ]
  },
  {
   "cell_type": "code",
   "execution_count": null,
   "metadata": {},
   "outputs": [],
   "source": [
    "# Sorting the DataFrame by Age in ascending order\n",
    "df_sorted = df_filled.sort_values(by=\"Age\")\n",
    "print(\"\\nDataFrame Sorted by Age (Ascending):\\n\", df_sorted)\n",
    "\n",
    "# Sorting the DataFrame by Age in descending order\n",
    "df_sorted_desc = df_filled.sort_values(by=\"Age\", ascending=False)\n",
    "print(\"\\nDataFrame Sorted by Age (Descending):\\n\", df_sorted_desc)\n",
    "\n"
   ]
  },
  {
   "cell_type": "markdown",
   "metadata": {},
   "source": [
    "We can group and aggregate data"
   ]
  },
  {
   "cell_type": "code",
   "execution_count": null,
   "metadata": {},
   "outputs": [],
   "source": [
    "\n",
    "# Grouping by City and calculating the average Age for each group\n",
    "df_grouped = df_filled.groupby(\"City\")[\"Age\"].mean()\n",
    "print(\"\\nAverage Age by City:\\n\", df_grouped)\n",
    "\n",
    "# Grouping by City and counting the number of occurrences\n",
    "df_grouped_count = df_filled.groupby(\"City\")[\"Name\"].count()\n",
    "print(\"\\nCount of People per City:\\n\", df_grouped_count)\n"
   ]
  },
  {
   "cell_type": "markdown",
   "metadata": {},
   "source": [
    "### Exercises\n",
    "Handling and Analyzing Employee Data with Pandas\n",
    "\n",
    "You will work with a CSV file containing employee data. Your task is to load the data, handle missing values, sort the data, group it by specific attributes, and analyze key metrics.\n",
    "\n",
    "1. **Load the Data:** Read the `exercise_pandas.csv` file into a Pandas DataFrame.\n",
    "2. **Handle Missing Values:** Replace any missing values in the `Salary` column with the average salary.\n",
    "3. **Sort the Data:** Sort the employees by `Salary` in descending order.\n",
    "4. **Group Data:**\n",
    "   - Compute the **average salary** per `Department`.\n",
    "   - Count the **number of employees** per `City`.\n",
    "5. **Save the Processed Data:** Write the sorted data to a new CSV file named `exercise_pandas_sorted.csv`.\n",
    "6. **Bonus Task:** Identify and print the employee with the highest salary.\n",
    "\n",
    "```python\n",
    "\n",
    "#Expected Output:\n",
    "\n",
    "Loaded DataFrame:\n",
    "      Name Department   Salary           City\n",
    "0    Alice         HR  50000.0       New York\n",
    "1      Bob         IT  70000.0  San Francisco\n",
    "2  Charlie         IT      NaN       New York\n",
    "3    David    Finance  65000.0        Chicago\n",
    "4      Eve         HR  48000.0        Chicago\n",
    "DataFrame after handling missing values:\n",
    "      Name Department   Salary           City\n",
    "0    Alice         HR  50000.0       New York\n",
    "1      Bob         IT  70000.0  San Francisco\n",
    "2  Charlie         IT  58250.0       New York\n",
    "3    David    Finance  65000.0        Chicago\n",
    "4      Eve         HR  48000.0        Chicago\n",
    "\n",
    "Average Salary per Department:\n",
    "Department\n",
    "Finance    65000.0\n",
    "HR         49000.0\n",
    "IT         64125.0\n",
    "Name: Salary, dtype: float64\n",
    "\n",
    "Employee Count per City:\n",
    "City\n",
    "Chicago          2\n",
    "New York         2\n",
    "San Francisco    1\n",
    "Name: Name, dtype: int64\n",
    "\n",
    "Highest Paid Employee:\n",
    "Name                    Bob\n",
    "Department               IT\n",
    "Salary              70000.0\n",
    "City          San Francisco\n",
    "Name: 1, dtype: object\n",
    "\n",
    "# An output file named example_pandas_sorted.csv"
   ]
  },
  {
   "cell_type": "code",
   "execution_count": null,
   "metadata": {},
   "outputs": [],
   "source": [
    "# Type here your code"
   ]
  },
  {
   "cell_type": "code",
   "execution_count": null,
   "metadata": {},
   "outputs": [],
   "source": []
  }
 ],
 "metadata": {
  "kernelspec": {
   "display_name": "Python 3 (ipykernel)",
   "language": "python",
   "name": "python3"
  },
  "language_info": {
   "codemirror_mode": {
    "name": "ipython",
    "version": 3
   },
   "file_extension": ".py",
   "mimetype": "text/x-python",
   "name": "python",
   "nbconvert_exporter": "python",
   "pygments_lexer": "ipython3",
   "version": "3.13.2"
  }
 },
 "nbformat": 4,
 "nbformat_minor": 4
}
